{
 "cells": [
  {
   "cell_type": "markdown",
   "id": "e8022bb7-7aa1-4189-b375-8192f5b81e61",
   "metadata": {},
   "source": [
    "# Installation"
   ]
  }
 ],
 "metadata": {
  "kernelspec": {
   "display_name": "SSH",
   "language": "bash",
   "name": "ssh"
  },
  "language_info": {
   "codemirror_mode": "shell",
   "file_extension": ".sh",
   "mimetype": "text/x-sh",
   "name": "ssh"
  }
 },
 "nbformat": 4,
 "nbformat_minor": 5
}
