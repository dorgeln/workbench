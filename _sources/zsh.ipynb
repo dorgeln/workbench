{
 "cells": [
  {
   "cell_type": "markdown",
   "id": "4b4493be-087f-4fcc-9d05-9d4badade585",
   "metadata": {},
   "source": [
    "# Z shell"
   ]
  },
  {
   "cell_type": "code",
   "execution_count": 1,
   "id": "314079de-afb3-4892-855a-42f3b6ed23d0",
   "metadata": {},
   "outputs": [
    {
     "name": "stdout",
     "output_type": "stream",
     "text": [
      "total 240K\n",
      "drwxr-xr-x 4 atrawog atrawog 4.0K Mar 10 23:12 .\n",
      "drwxr-xr-x 7 atrawog atrawog 4.0K Mar 10 23:04 ..\n",
      "drwxr-xr-x 2 atrawog atrawog  101 Mar 10 23:03 .ipynb_checkpoints\n",
      "drwxr-xr-x 5 atrawog atrawog   58 Mar 10 21:02 _build\n",
      "-rw-r--r-- 1 atrawog atrawog 1.4K Mar 10 22:58 _config.yml\n",
      "-rw-r--r-- 1 atrawog atrawog  210 Mar 10 22:58 _toc.yml\n",
      "-rw-r--r-- 1 atrawog atrawog  23K Mar 10 23:13 ansible_kernel.log\n",
      "-rw-r--r-- 1 atrawog atrawog 2.3K Mar 10 22:14 conf.py\n",
      "-rw-r--r-- 1 atrawog atrawog  431 Mar 10 11:03 intro.md\n",
      "-rw-r--r-- 1 atrawog atrawog 9.7K Mar 10 11:03 logo.png\n",
      "-rw-r--r-- 1 atrawog atrawog 1.8K Mar 10 11:03 markdown-notebooks.md\n",
      "-rw-r--r-- 1 atrawog atrawog 1.9K Mar 10 11:03 markdown.md\n",
      "-rw-r--r-- 1 atrawog atrawog 152K Mar 10 22:48 notebooks.ipynb\n",
      "-rw-r--r-- 1 atrawog atrawog 5.4K Mar 10 11:03 references.bib\n",
      "-rw-r--r-- 1 atrawog atrawog   30 Mar 10 11:03 requirements.txt\n",
      "-rw-r--r-- 1 atrawog atrawog  115 Mar 10 22:41 retrolite.md\n",
      "-rw-r--r-- 1 atrawog atrawog 2.9K Mar 10 23:04 zsh.ipynb\n"
     ]
    }
   ],
   "source": [
    "ls -lah"
   ]
  },
  {
   "cell_type": "code",
   "execution_count": 1,
   "id": "2d1c20c0",
   "metadata": {},
   "outputs": [
    {
     "name": "stdout",
     "output_type": "stream",
     "text": [
      "TEST\n"
     ]
    }
   ],
   "source": [
    "echo TEST"
   ]
  },
  {
   "cell_type": "code",
   "execution_count": null,
   "id": "b7c9ecae",
   "metadata": {},
   "outputs": [],
   "source": []
  }
 ],
 "metadata": {
  "interpreter": {
   "hash": "d9424ee13973181160d7a36261deb0be434052bebf51bef3f3faca70bb537ff6"
  },
  "kernelspec": {
   "display_name": "Z shell",
   "language": "zsh",
   "name": "zsh"
  },
  "language_info": {
   "codemirror_mode": "shell",
   "file_extension": ".zsh",
   "mimetype": "text/x-zsh",
   "name": "zsh",
   "pygments_lexer": "shell",
   "version": "5.7.1"
  }
 },
 "nbformat": 4,
 "nbformat_minor": 5
}
